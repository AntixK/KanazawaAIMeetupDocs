{
 "cells": [
  {
   "cell_type": "markdown",
   "metadata": {},
   "source": [
    "# カーネル法"
   ]
  },
  {
   "cell_type": "markdown",
   "metadata": {},
   "source": [
    "### 重回帰分析の式\n",
    "$$\n",
    "{\\hat{y} = f({\\bf x}) = w_0 + w_1 x_1 + w_2 x_2 + \\ldots + w_n x_n \n",
    "}\n",
    "$$\n",
    "マルチレイヤーパーセプトロンに似ている式 <br>w_0はバイアスと等価\n",
    "### 正規方程式\n",
    "$$\n",
    "J(\\theta) = \\frac{1}{2m}\\sum_{i=1}^{m}(h_{\\theta}(x^{(i)})-y^{(i)})^2\n",
    "$$\n",
    "微分した結果、２乗が展開されたような式になる\n",
    "\n",
    "$$\n",
    "\\begin{eqnarray} \n",
    "\\frac{\\partial}{\\partial \\theta_j}J(\\theta) &=& \\frac{1}{m}\\sum_{i=1}^{m}(h_{\\theta}(x^{(i)})-y^{(i)})x_j^{(i)} \\\\ \n",
    "&=& \\frac{1}{m}\\{\\sum_{k}\\theta_k\\sum_{i}x_j^{(i)}x_k^{(i)} - \\sum_{i}x_j^{(i)}y^{(i)}\\} \n",
    "\\end{eqnarray}\n",
    "$$\n",
    "\n",
    "hθ(x)は、xという入力にθという重みをかけたものになる。Σkがポイント。\n",
    "\n",
    "$$\n",
    "m\\left[\\begin{array}{cc} \n",
    "\\frac{\\partial}{\\partial \\theta_0}J(\\theta)\\\\ \n",
    "\\frac{\\partial}{\\partial \\theta_1}J(\\theta)\\\\ \n",
    "\\vdots\\\\ \n",
    "\\frac{\\partial}{\\partial \\theta_n}J(\\theta) \n",
    "\\end{array}\\right] = \n",
    "X^TX \\theta - X^Ty\n",
    "$$\n",
    "正規方程式の証明終了\n",
    "$$\n",
    "\\begin{eqnarray} \n",
    "X^TX \\theta &=& X^Ty\\\\ \n",
    "\\theta &=& (X^TX)^{-1} X^Ty \n",
    "\\end{eqnarray}\n",
    "$$\n",
    "両辺に、左辺のΘの係数の逆行列を掛け算する"
   ]
  },
  {
   "cell_type": "markdown",
   "metadata": {},
   "source": []
  },
  {
   "cell_type": "markdown",
   "metadata": {},
   "source": [
    "$$\n",
    "{f({\\bf x}) = \\sum_{i=0}^{n} w_i x_i\n",
    "}\n",
    "$$"
   ]
  },
  {
   "cell_type": "markdown",
   "metadata": {},
   "source": [
    "$$\n",
    "{f({\\bf x}) = \\sum_{i=1}^{N} \\alpha_i k({\\bf x}^{(i)}, {\\bf x})\n",
    "}\n",
    "$$"
   ]
  },
  {
   "cell_type": "markdown",
   "metadata": {},
   "source": [
    "## ガウスカーネル \n",
    "$$\n",
    "{k({\\bf x}, {\\bf x}') = exp(-\\beta \\|{\\bf x} - {\\bf x}'\\|^2)\n",
    "}\n",
    "$$\n",
    "expはeのx乗　つまり、2.71...のx乗 xは(  )の中身<br>βはβ>0のハイパーパラメータであり、任意の変数"
   ]
  },
  {
   "cell_type": "markdown",
   "metadata": {},
   "source": [
    "$$\n",
    "\\|{\\bf x} - {\\bf x}'\\|=\\sqrt{\\sum_{j=1}^n (x_j - x'_j)^2}\n",
    "$$\n",
    "$$\\|{\\bf x} - {\\bf x}'\\|はl2ノルムを表している。$$"
   ]
  },
  {
   "cell_type": "markdown",
   "metadata": {},
   "source": [
    "$$\n",
    "k(x,x')=exp(-\\beta(x-x')^2)\n",
    "$$"
   ]
  },
  {
   "cell_type": "markdown",
   "metadata": {},
   "source": []
  },
  {
   "cell_type": "code",
   "execution_count": 1,
   "metadata": {
    "collapsed": false
   },
   "outputs": [
    {
     "name": "stdout",
     "output_type": "stream",
     "text": [
      "Requirement already satisfied: seaborn in /usr/local/lib/python2.7/site-packages (0.9.0)\n",
      "Requirement already satisfied: pandas>=0.15.2 in /usr/local/lib/python2.7/site-packages (from seaborn) (0.23.4)\n",
      "Requirement already satisfied: scipy>=0.14.0 in /usr/local/lib/python2.7/site-packages (from seaborn) (1.1.0)\n",
      "Requirement already satisfied: matplotlib>=1.4.3 in /usr/local/lib/python2.7/site-packages (from seaborn) (2.0.2)\n",
      "Requirement already satisfied: numpy>=1.9.3 in /usr/local/lib/python2.7/site-packages (from seaborn) (1.13.1)\n",
      "Requirement already satisfied: pytz>=2011k in /usr/local/Cellar/matplotlib/2.0.2/libexec/lib/python2.7/site-packages (from pandas>=0.15.2->seaborn) (2016.10)\n",
      "Requirement already satisfied: python-dateutil>=2.5.0 in /usr/local/Cellar/matplotlib/2.0.2/libexec/lib/python2.7/site-packages (from pandas>=0.15.2->seaborn) (2.6.0)\n",
      "Requirement already satisfied: six>=1.10 in /usr/local/Cellar/matplotlib/2.0.2/libexec/lib/python2.7/site-packages (from matplotlib>=1.4.3->seaborn) (1.10.0)\n",
      "Requirement already satisfied: functools32 in /usr/local/Cellar/matplotlib/2.0.2/libexec/lib/python2.7/site-packages (from matplotlib>=1.4.3->seaborn) (3.2.3.post2)\n",
      "Requirement already satisfied: subprocess32 in /usr/local/Cellar/matplotlib/2.0.2/libexec/lib/python2.7/site-packages (from matplotlib>=1.4.3->seaborn) (3.2.7)\n",
      "Requirement already satisfied: cycler>=0.10 in /usr/local/Cellar/matplotlib/2.0.2/libexec/lib/python2.7/site-packages (from matplotlib>=1.4.3->seaborn) (0.10.0)\n",
      "Requirement already satisfied: pyparsing!=2.0.4,!=2.1.2,!=2.1.6,>=1.5.6 in /usr/local/Cellar/matplotlib/2.0.2/libexec/lib/python2.7/site-packages (from matplotlib>=1.4.3->seaborn) (2.1.10)\n",
      "\u001b[33mYou are using pip version 10.0.1, however version 18.1 is available.\n",
      "You should consider upgrading via the 'pip install --upgrade pip' command.\u001b[0m\n"
     ]
    }
   ],
   "source": [
    "!pip --proxy=wwwproxy.kanazawa-it.ac.jp:8080 install seaborn"
   ]
  },
  {
   "cell_type": "code",
   "execution_count": 2,
   "metadata": {
    "collapsed": false
   },
   "outputs": [
    {
     "data": {
      "image/png": "[encoded data removed]",
      "text/plain": [
       "<matplotlib.figure.Figure at 0x1288ce278>"
      ]
     },
     "metadata": {},
     "output_type": "display_data"
    }
   ],
   "source": [
    "%matplotlib inline\n",
    "import numpy as np\n",
    "import pandas as pd\n",
    "from matplotlib import pyplot as plt\n",
    "import seaborn as sns\n",
    "\n",
    "# 線形回帰モデル用データセット\n",
    "# a : slope of a line\n",
    "# b : intercept of a line\n",
    "# size : number of data\n",
    "# xlim : domain of variable x\n",
    "# scale : standard deviation\n",
    "def linear_dataset(a, b, size, xlim=[0, 1], scale=None):\n",
    "    x = np.random.uniform(xlim[0], xlim[1], size)\n",
    "    y = a * x + b\n",
    "    if scale is not None:\n",
    "        noize = np.random.normal(0, scale, size)\n",
    "        y = y + noize\n",
    "    df = pd.DataFrame()\n",
    "    df['x'] = x\n",
    "    df['y'] = y\n",
    "    return df\n",
    "\n",
    "# データを生成\n",
    "data = linear_dataset(0.5, 0.2, 20, scale=0.03)\n",
    "\n",
    "# データを描画\n",
    "plt.figure(figsize=(6.472, 4))\n",
    "plt.scatter(data['x'].as_matrix(), data['y'].as_matrix())\n",
    "plt.xlim((0.1, 1.05))\n",
    "plt.ylim((0.2, 0.8))\n",
    "plt.show()"
   ]
  },
  {
   "cell_type": "code",
   "execution_count": 3,
   "metadata": {
    "collapsed": false,
    "scrolled": true
   },
   "outputs": [
    {
     "data": {
      "image/png": "[encoded data removed]",
      "text/plain": [
       "<matplotlib.figure.Figure at 0x125c63358>"
      ]
     },
     "metadata": {},
     "output_type": "display_data"
    }
   ],
   "source": [
    "def kernel(xi, xj, beta=1):\n",
    "    return np.exp(- beta * np.sum((xi - xj)**2))\n",
    "\n",
    "X = np.arange(-1.5, 1.5, 0.01)\n",
    "Y = np.zeros(len(X))\n",
    "for i in range(len(X)):\n",
    "    Y[i] = kernel(X[i], 0, 10)\n",
    "\n",
    "plt.figure(figsize=(6.472, 4))\n",
    "plt.plot(X, Y)\n",
    "plt.show()"
   ]
  },
  {
   "cell_type": "code",
   "execution_count": 13,
   "metadata": {
    "collapsed": false
   },
   "outputs": [
    {
     "name": "stdout",
     "output_type": "stream",
     "text": [
      "-1.5\n",
      "1.6918979226151304e-10\n"
     ]
    },
    {
     "data": {
      "image/png": "[encoded data removed]",
      "text/plain": [
       "<matplotlib.figure.Figure at 0x128a265c0>"
      ]
     },
     "metadata": {},
     "output_type": "display_data"
    }
   ],
   "source": [
    "def kernel(xi, xj, beta=1):\n",
    "    return np.exp(- beta * np.sum((xi - xj)**2))#np.sumを外しても動作します。\n",
    "\n",
    "def kernel_test(xi, xj, beta=1):\n",
    "    print((xi - xj))\n",
    "    return np.exp(- beta * np.sum((xi - xj)**2))\n",
    "\n",
    "X = np.arange(-1.5, 1.5, 0.01)\n",
    "Y = np.zeros(len(X))\n",
    "\n",
    "centers = [-1, 0, 0.5, 0.6, 1]\n",
    "weights = [0.2, 1, 0.3, -1, 0.5]\n",
    "#########################################\n",
    "#kernel関数で、np.sumがどのような挙動を示しているかテスト\n",
    "print(kernel_test(X[0],centers[1],10))\n",
    "#########################################\n",
    "\n",
    "#X:-1.5~1.5 \n",
    "for i in range(len(X)):\n",
    "    for weight, center in zip(weights, centers):\n",
    "        Y[i] += weight * kernel(X[i], center, 10)\n",
    "\n",
    "plt.figure(figsize=(6.472, 4))\n",
    "plt.plot(X, Y)\n",
    "plt.show()"
   ]
  },
  {
   "cell_type": "code",
   "execution_count": 5,
   "metadata": {
    "collapsed": false
   },
   "outputs": [
    {
     "data": {
      "image/png": "[encoded data removed]",
      "text/plain": [
       "<matplotlib.figure.Figure at 0x1288ce0f0>"
      ]
     },
     "metadata": {},
     "output_type": "display_data"
    }
   ],
   "source": [
    "# カーネル回帰モデル用データセット\n",
    "# size : number of data\n",
    "# xlim : domain of variable x\n",
    "# scale : standard deviation\n",
    "def wave_dataset(size, xlim=[0, 1], scale=None):\n",
    "    x = np.random.uniform(xlim[0], xlim[1], size)\n",
    "    y = np.sin(x)\n",
    "    if scale is not None:\n",
    "        noize = np.random.normal(0, scale, size)\n",
    "        y = y + noize\n",
    "    df = pd.DataFrame()\n",
    "    df['x'] = x\n",
    "    df['y'] = y\n",
    "    return df\n",
    "\n",
    "# データを生成\n",
    "data = wave_dataset(20, xlim=[-3.14, 3.14], scale=0.05)\n",
    "\n",
    "# データを描画\n",
    "plt.figure(figsize=(6.472, 4))\n",
    "plt.scatter(data['x'].as_matrix(), data['y'].as_matrix())\n",
    "plt.ylim((-1.5, 1.5))\n",
    "plt.show()"
   ]
  },
  {
   "cell_type": "code",
   "execution_count": 6,
   "metadata": {
    "collapsed": false
   },
   "outputs": [
    {
     "name": "stdout",
     "output_type": "stream",
     "text": [
      "[ 2.97545323  0.55205916  0.39339059  1.21833953  0.63898912  2.83212807\n",
      "  2.20957687  0.70218819 -0.0318965  -0.50598084  2.28338585  1.09007326\n",
      " -1.9939968  -2.32735348  0.19697489 -2.43727143  1.28229727  2.02736905\n",
      " -0.60695192 -0.43282333]\n",
      "i:0| j:0\n",
      "i:0| j:1\n",
      "i:0| j:2\n",
      "i:0| j:3\n",
      "i:0| j:4\n",
      "i:0| j:5\n",
      "i:0| j:6\n",
      "i:0| j:7\n",
      "i:0| j:8\n",
      "i:0| j:9\n",
      "i:0| j:10\n",
      "i:0| j:11\n",
      "i:0| j:12\n",
      "i:0| j:13\n",
      "i:0| j:14\n",
      "i:0| j:15\n",
      "i:0| j:16\n",
      "i:0| j:17\n",
      "i:0| j:18\n",
      "i:0| j:19\n",
      "i:1| j:1\n",
      "i:1| j:2\n",
      "i:1| j:3\n",
      "i:1| j:4\n",
      "i:1| j:5\n",
      "i:1| j:6\n",
      "i:1| j:7\n",
      "i:1| j:8\n",
      "i:1| j:9\n",
      "i:1| j:10\n",
      "i:1| j:11\n",
      "i:1| j:12\n",
      "i:1| j:13\n",
      "i:1| j:14\n",
      "i:1| j:15\n",
      "i:1| j:16\n",
      "i:1| j:17\n",
      "i:1| j:18\n",
      "i:1| j:19\n",
      "i:2| j:2\n",
      "i:2| j:3\n",
      "i:2| j:4\n",
      "i:2| j:5\n",
      "i:2| j:6\n",
      "i:2| j:7\n",
      "i:2| j:8\n",
      "i:2| j:9\n",
      "i:2| j:10\n",
      "i:2| j:11\n",
      "i:2| j:12\n",
      "i:2| j:13\n",
      "i:2| j:14\n",
      "i:2| j:15\n",
      "i:2| j:16\n",
      "i:2| j:17\n",
      "i:2| j:18\n",
      "i:2| j:19\n",
      "i:3| j:3\n",
      "i:3| j:4\n",
      "i:3| j:5\n",
      "i:3| j:6\n",
      "i:3| j:7\n",
      "i:3| j:8\n",
      "i:3| j:9\n",
      "i:3| j:10\n",
      "i:3| j:11\n",
      "i:3| j:12\n",
      "i:3| j:13\n",
      "i:3| j:14\n",
      "i:3| j:15\n",
      "i:3| j:16\n",
      "i:3| j:17\n",
      "i:3| j:18\n",
      "i:3| j:19\n",
      "i:4| j:4\n",
      "i:4| j:5\n",
      "i:4| j:6\n",
      "i:4| j:7\n",
      "i:4| j:8\n",
      "i:4| j:9\n",
      "i:4| j:10\n",
      "i:4| j:11\n",
      "i:4| j:12\n",
      "i:4| j:13\n",
      "i:4| j:14\n",
      "i:4| j:15\n",
      "i:4| j:16\n",
      "i:4| j:17\n",
      "i:4| j:18\n",
      "i:4| j:19\n",
      "i:5| j:5\n",
      "i:5| j:6\n",
      "i:5| j:7\n",
      "i:5| j:8\n",
      "i:5| j:9\n",
      "i:5| j:10\n",
      "i:5| j:11\n",
      "i:5| j:12\n",
      "i:5| j:13\n",
      "i:5| j:14\n",
      "i:5| j:15\n",
      "i:5| j:16\n",
      "i:5| j:17\n",
      "i:5| j:18\n",
      "i:5| j:19\n",
      "i:6| j:6\n",
      "i:6| j:7\n",
      "i:6| j:8\n",
      "i:6| j:9\n",
      "i:6| j:10\n",
      "i:6| j:11\n",
      "i:6| j:12\n",
      "i:6| j:13\n",
      "i:6| j:14\n",
      "i:6| j:15\n",
      "i:6| j:16\n",
      "i:6| j:17\n",
      "i:6| j:18\n",
      "i:6| j:19\n",
      "i:7| j:7\n",
      "i:7| j:8\n",
      "i:7| j:9\n",
      "i:7| j:10\n",
      "i:7| j:11\n",
      "i:7| j:12\n",
      "i:7| j:13\n",
      "i:7| j:14\n",
      "i:7| j:15\n",
      "i:7| j:16\n",
      "i:7| j:17\n",
      "i:7| j:18\n",
      "i:7| j:19\n",
      "i:8| j:8\n",
      "i:8| j:9\n",
      "i:8| j:10\n",
      "i:8| j:11\n",
      "i:8| j:12\n",
      "i:8| j:13\n",
      "i:8| j:14\n",
      "i:8| j:15\n",
      "i:8| j:16\n",
      "i:8| j:17\n",
      "i:8| j:18\n",
      "i:8| j:19\n",
      "i:9| j:9\n",
      "i:9| j:10\n",
      "i:9| j:11\n",
      "i:9| j:12\n",
      "i:9| j:13\n",
      "i:9| j:14\n",
      "i:9| j:15\n",
      "i:9| j:16\n",
      "i:9| j:17\n",
      "i:9| j:18\n",
      "i:9| j:19\n",
      "i:10| j:10\n",
      "i:10| j:11\n",
      "i:10| j:12\n",
      "i:10| j:13\n",
      "i:10| j:14\n",
      "i:10| j:15\n",
      "i:10| j:16\n",
      "i:10| j:17\n",
      "i:10| j:18\n",
      "i:10| j:19\n",
      "i:11| j:11\n",
      "i:11| j:12\n",
      "i:11| j:13\n",
      "i:11| j:14\n",
      "i:11| j:15\n",
      "i:11| j:16\n",
      "i:11| j:17\n",
      "i:11| j:18\n",
      "i:11| j:19\n",
      "i:12| j:12\n",
      "i:12| j:13\n",
      "i:12| j:14\n",
      "i:12| j:15\n",
      "i:12| j:16\n",
      "i:12| j:17\n",
      "i:12| j:18\n",
      "i:12| j:19\n",
      "i:13| j:13\n",
      "i:13| j:14\n",
      "i:13| j:15\n",
      "i:13| j:16\n",
      "i:13| j:17\n",
      "i:13| j:18\n",
      "i:13| j:19\n",
      "i:14| j:14\n",
      "i:14| j:15\n",
      "i:14| j:16\n",
      "i:14| j:17\n",
      "i:14| j:18\n",
      "i:14| j:19\n",
      "i:15| j:15\n",
      "i:15| j:16\n",
      "i:15| j:17\n",
      "i:15| j:18\n",
      "i:15| j:19\n",
      "i:16| j:16\n",
      "i:16| j:17\n",
      "i:16| j:18\n",
      "i:16| j:19\n",
      "i:17| j:17\n",
      "i:17| j:18\n",
      "i:17| j:19\n",
      "i:18| j:18\n",
      "i:18| j:19\n",
      "i:19| j:19\n"
     ]
    }
   ],
   "source": [
    "from itertools import combinations_with_replacement\n",
    "\n",
    "#もう一度kernel関数を紹介\n",
    "#def kernel(xi, xj, beta=1):\n",
    "#    return np.exp(- beta * np.sum((xi - xj)**2))\n",
    "\n",
    "X = data['x'].as_matrix()\n",
    "Y = data['y'].as_matrix()\n",
    "\n",
    "#TEST Xの可視化\n",
    "print(X)\n",
    "\n",
    "# ハイパーパラメータ\n",
    "beta = 1\n",
    "\n",
    "# データ数\n",
    "N = X.shape[0]\n",
    "\n",
    "#TEST ２つの数字の組み合わせを求める　九九の表のようなもの\n",
    "for i, j in combinations_with_replacement(range(N), 2):\n",
    "    print(\"i:\"+str(i)+\"| j:\"+str(j))\n",
    "# グラム行列の計算\n",
    "K = np.zeros((N, N))\n",
    "for i, j in combinations_with_replacement(range(N), 2):\n",
    "    K[i][j] = kernel(X[i], X[j])\n",
    "    K[j][i] = K[i][j]\n"
   ]
  },
  {
   "cell_type": "markdown",
   "metadata": {},
   "source": [
    "- Kはグラム行列と呼ばれる。\n",
    "$$\n",
    "{\\hat{y} =\n",
    "\\left(\\begin{matrix}\n",
    "k({\\bf x}^{(1)}, {\\bf x}) & k({\\bf x}^{(2)}, {\\bf x}) & \\cdots & k({\\bf x}^{(N)}, {\\bf x})\n",
    "\\end{matrix}\\right)\n",
    "\\left(\\begin{matrix}\n",
    "\\alpha_0 \\\\\n",
    "\\alpha_1 \\\\\n",
    "\\vdots \\\\\n",
    "\\alpha_N\n",
    "\\end{matrix}\\right)\n",
    "}\n",
    "$$\n",
    "\n",
    "$$\n",
    "{{\\bf y} = \n",
    "\\left(\\begin{matrix}\n",
    "y^{(1)} \\\\\n",
    "y^{(2)} \\\\\n",
    "\\vdots \\\\\n",
    "y^{(N)}\n",
    "\\end{matrix}\\right)\n",
    ",\\;\n",
    "K=\\left(\\begin{matrix}\n",
    "k({\\bf x}^{(1)}, {\\bf x}^{(1)}) & k({\\bf x}^{(2)}, {\\bf x}^{(1)}) & \\cdots & k({\\bf x}^{(N)}, {\\bf x}^{(1)}) \\\\\n",
    "k({\\bf x}^{(1)}, {\\bf x}^{(2)}) & k({\\bf x}^{(2)}, {\\bf x}^{(2)}) & & \\vdots \\\\\n",
    "\\vdots & & \\ddots & \\vdots \\\\\n",
    "k({\\bf x}^{(1)}, {\\bf x}^{(N)}) & \\cdots & \\cdots & k({\\bf x}^{(N)}, {\\bf x}^{(N)})\n",
    "\\end{matrix}\\right) \n",
    ",\\;\n",
    "{\\bf \\alpha}\n",
    "=\n",
    "\\left(\\begin{matrix}\n",
    "\\alpha^{(1)} \\\\\n",
    "\\alpha^{(2)} \\\\\n",
    "\\vdots \\\\\n",
    "\\alpha^{(N)}\n",
    "\\end{matrix}\\right)\n",
    "}\n",
    "$$\n",
    "\n",
    "$${\\begin{align}\n",
    "R({\\bf \\alpha}) &= r_{square}({\\bf \\alpha})= \\sum_{i=1}^{N}\\left\\{y^{(i)}- f({\\bf x}^{(i)})\\right\\}^2\n",
    "=\\sum_{i=1}^{N}\\left\\{y^{(i)}- \\sum_{i=1}^{N} \\alpha_i k({\\bf x}^{(i)}, {\\bf x})\\right\\}^2 \\\\\n",
    "&=({\\bf y}- K {\\bf \\alpha})^{\\mathrm{T}}({\\bf y}- K {\\bf \\alpha})\n",
    "\\end{align}\n",
    "}$$\n",
    "\n",
    "\n",
    "$$\n",
    "{{\\bf \\alpha} = (K^{\\mathrm{T}}K)^{-1}K^{\\mathrm{T}}{\\bf y} = K^{-1}{\\bf y}\n",
    "}\n",
    "$$"
   ]
  },
  {
   "cell_type": "code",
   "execution_count": 7,
   "metadata": {
    "collapsed": true
   },
   "outputs": [],
   "source": [
    "alpha = np.linalg.inv(K).dot(Y)"
   ]
  },
  {
   "cell_type": "code",
   "execution_count": 8,
   "metadata": {
    "collapsed": false
   },
   "outputs": [
    {
     "data": {
      "image/png": "[encoded data removed]",
      "text/plain": [
       "<matplotlib.figure.Figure at 0x128a74208>"
      ]
     },
     "metadata": {},
     "output_type": "display_data"
    }
   ],
   "source": [
    "# カーネル回帰\n",
    "def kernel_predict(X, x, alpha, beta):\n",
    "    Y = 0\n",
    "    for i in range(len(X)):\n",
    "        Y += alpha[i] * kernel(X[i], x, beta)\n",
    "    return Y\n",
    "\n",
    "# 回帰によって結果を予測        \n",
    "X_axis = np.arange(-3.14, 3.14, 0.01)#0.01刻みで-3.14から3.14までの値を格納\n",
    "Y_predict = np.zeros(len(X_axis))#ゼロで　Y_predictを初期化\n",
    "for i in range(len(X_axis)):\n",
    "    Y_predict[i] = kernel_predict(X, X_axis[i], alpha, beta)\n",
    "\n",
    "# 結果を描画\n",
    "plt.figure(figsize=(6.472, 4))\n",
    "\n",
    "## 観測データ\n",
    "plt.scatter(data['x'].as_matrix(), data['y'].as_matrix())\n",
    "## 真の関数\n",
    "plt.plot(X_axis, np.sin(X_axis), c='red')\n",
    "## 予測した関数\n",
    "plt.plot(X_axis, Y_predict)\n",
    "\n",
    "plt.ylim((-1.5, 1.5))\n",
    "plt.show()"
   ]
  },
  {
   "cell_type": "markdown",
   "metadata": {},
   "source": [
    "## 正則化して、重みαがあまりにも大きな値にならないようにする\n",
    "\n",
    "$${\\begin{align}\n",
    "R({\\bf \\alpha})\n",
    "&=({\\bf y}- K {\\bf \\alpha})^{\\mathrm{T}}({\\bf y}- K {\\bf \\alpha}) + \\lambda {\\bf \\alpha}^{\\mathrm{T}} K {\\bf \\alpha}\n",
    "\\end{align}\n",
    "}$$\n",
    "\n",
    "$${\\bf \\alpha}^{\\mathrm{T}} K {\\bf \\alpha}は、学習器の予測値に、重み\\alphaを掛けたもの$$\n",
    "λの値は、任意に決められるが、λの値が大きいほどαの値が小さくなるように学習しなくてはならない"
   ]
  },
  {
   "cell_type": "markdown",
   "metadata": {},
   "source": [
    "$${{\\bf \\alpha} = (K+\\lambda I_N)^{-1}{\\bf y}\n",
    "}$$"
   ]
  },
  {
   "cell_type": "code",
   "execution_count": 10,
   "metadata": {
    "collapsed": false
   },
   "outputs": [
    {
     "data": {
      "image/png": "[encoded data removed]",
      "text/plain": [
       "<matplotlib.figure.Figure at 0x128a62c88>"
      ]
     },
     "metadata": {},
     "output_type": "display_data"
    }
   ],
   "source": [
    "# 正則化項の係数\n",
    "lam = 0.5\n",
    "alpha_r = np.linalg.inv(K + lam * np.eye(K.shape[0])).dot(Y)\n",
    "\n",
    "# 回帰によって結果を予測\n",
    "Y_predict_r = np.zeros(len(X_axis))\n",
    "for i in range(len(X_axis)):\n",
    "    Y_predict_r[i] = kernel_predict(X, X_axis[i], alpha_r, beta)\n",
    "\n",
    "# 結果を描画\n",
    "plt.figure(figsize=(6.472, 4))\n",
    "\n",
    "## 観測データ\n",
    "plt.scatter(data['x'].as_matrix(), data['y'].as_matrix())\n",
    "## 真の関数\n",
    "plt.plot(X_axis, np.sin(X_axis), c='red')\n",
    "## 予測した関数\n",
    "plt.plot(X_axis, Y_predict_r)\n",
    "\n",
    "plt.ylim((-1.5, 1.5))\n",
    "plt.show()"
   ]
  },
  {
   "cell_type": "markdown",
   "metadata": {
    "collapsed": true
   },
   "source": [
    "## 参考文献\n",
    "- 線形な手法とカーネル法（1. 回帰分析）(Qiita) https://qiita.com/wsuzume/items/09a59036c8944fd563ff　参照日：2018/9/23\n",
    "- 線形回帰の Normal Equation（正規方程式）について(Qiita) https://qiita.com/antimon2/items/ac1ebaed75ad58406b94　参照日：2018/9/25\n",
    "- 様々な種類の最小二乗問題の最適解 (Qiita)https://qiita.com/Bikkle/items/df94c641c9e13a094849　参照日：2018/10/13\n",
    "- 正則化最小二乗法 (regularized least squares method) http://www.sanko-shoko.net/note.php?id=z7xb 参照日：2018/10/13\n"
   ]
  },
  {
   "cell_type": "code",
   "execution_count": null,
   "metadata": {
    "collapsed": true
   },
   "outputs": [],
   "source": []
  }
 ],
 "metadata": {
  "anaconda-cloud": {},
  "kernelspec": {
   "display_name": "Python [Root]",
   "language": "python",
   "name": "Python [Root]"
  },
  "language_info": {
   "codemirror_mode": {
    "name": "ipython",
    "version": 3
   },
   "file_extension": ".py",
   "mimetype": "text/x-python",
   "name": "python",
   "nbconvert_exporter": "python",
   "pygments_lexer": "ipython3",
   "version": "3.5.2"
  }
 },
 "nbformat": 4,
 "nbformat_minor": 0
}
