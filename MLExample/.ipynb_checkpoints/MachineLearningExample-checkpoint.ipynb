{
 "cells": [
  {
   "cell_type": "code",
   "execution_count": 1,
   "metadata": {
    "collapsed": false
   },
   "outputs": [
    {
     "name": "stdout",
     "output_type": "stream",
     "text": [
      "Requirement already satisfied (use --upgrade to upgrade): scikit-learn in /Users/user/anaconda3/lib/python3.5/site-packages\n",
      "\u001b[33mYou are using pip version 8.1.2, however version 10.0.1 is available.\n",
      "You should consider upgrading via the 'pip install --upgrade pip' command.\u001b[0m\n",
      "Requirement already satisfied (use --upgrade to upgrade): numpy in /Users/user/anaconda3/lib/python3.5/site-packages\n",
      "\u001b[33mYou are using pip version 8.1.2, however version 10.0.1 is available.\n",
      "You should consider upgrading via the 'pip install --upgrade pip' command.\u001b[0m\n",
      "Requirement already satisfied (use --upgrade to upgrade): matplotlib in /Users/user/anaconda3/lib/python3.5/site-packages\n",
      "Requirement already satisfied (use --upgrade to upgrade): numpy>=1.7.1 in /Users/user/anaconda3/lib/python3.5/site-packages (from matplotlib)\n",
      "Requirement already satisfied (use --upgrade to upgrade): cycler>=0.10 in /Users/user/anaconda3/lib/python3.5/site-packages (from matplotlib)\n",
      "Requirement already satisfied (use --upgrade to upgrade): python-dateutil>=2.1 in /Users/user/anaconda3/lib/python3.5/site-packages (from matplotlib)\n",
      "Requirement already satisfied (use --upgrade to upgrade): pyparsing!=2.0.4,!=2.1.2,!=2.1.6,>=2.0.1 in /Users/user/anaconda3/lib/python3.5/site-packages (from matplotlib)\n",
      "Requirement already satisfied (use --upgrade to upgrade): six>=1.10 in /Users/user/anaconda3/lib/python3.5/site-packages (from matplotlib)\n",
      "Requirement already satisfied (use --upgrade to upgrade): pytz in /Users/user/anaconda3/lib/python3.5/site-packages (from matplotlib)\n",
      "\u001b[33mYou are using pip version 8.1.2, however version 10.0.1 is available.\n",
      "You should consider upgrading via the 'pip install --upgrade pip' command.\u001b[0m\n"
     ]
    }
   ],
   "source": [
    "!pip install scikit-learn\n",
    "!pip install numpy\n",
    "!pip install matplotlib"
   ]
  },
  {
   "cell_type": "code",
   "execution_count": 2,
   "metadata": {
    "collapsed": true
   },
   "outputs": [],
   "source": [
    "import numpy as np\n",
    "import matplotlib.pyplot as plt\n",
    "from sklearn.model_selection import train_test_split\n",
    "from sklearn import svm\n",
    "from sklearn.model_selection import GridSearchCV\n",
    "from sklearn.neural_network import MLPClassifier"
   ]
  },
  {
   "cell_type": "code",
   "execution_count": 3,
   "metadata": {
    "collapsed": false
   },
   "outputs": [
    {
     "name": "stdout",
     "output_type": "stream",
     "text": [
      "[1]\n"
     ]
    }
   ],
   "source": [
    "import numpy as np\n",
    "X = np.array([[-1, -1], [-2, -1], [1, 1], [2, 1]])\n",
    "y = np.array([1, 1, 0, 0])\n",
    "from sklearn.svm import SVC\n",
    "clf = SVC()\n",
    "clf.fit(X, y)\n",
    "SVC(C=1.0,class_weight=None)#Support Vector Classification\n",
    "print(clf.predict([[-0.8, -1]]))"
   ]
  },
  {
   "cell_type": "markdown",
   "metadata": {},
   "source": [
    "## データセットの作成（トレーニングデータとテストデータに分ける）"
   ]
  },
  {
   "cell_type": "code",
   "execution_count": 4,
   "metadata": {
    "collapsed": true
   },
   "outputs": [],
   "source": [
    "from sklearn.datasets import make_moons, make_circles, make_classification\n",
    "X, y = make_classification(n_features=2, n_redundant=0, n_informative=2,\n",
    "                           random_state=5, n_clusters_per_class=1, n_samples=100, n_classes=2)\n"
   ]
  },
  {
   "cell_type": "code",
   "execution_count": 5,
   "metadata": {
    "collapsed": false
   },
   "outputs": [
    {
     "name": "stdout",
     "output_type": "stream",
     "text": [
      "-0.48221701522338245\n"
     ]
    }
   ],
   "source": [
    "print(X[0][0])"
   ]
  },
  {
   "cell_type": "code",
   "execution_count": 6,
   "metadata": {
    "collapsed": false
   },
   "outputs": [
    {
     "name": "stdout",
     "output_type": "stream",
     "text": [
      "[0 1 1 1 0 0 0 0 0 1 1 1 0 1 0 0 1 0 0 1 1 1 1 1 0 1 1 0 1 1 1 0 0 0 0 0 0\n",
      " 1 0 1 1 0 0 1 1 1 1 0 0 0 1 0 1 1 0 0 0 1 0 0 0 0 1 0 0 1 0 1 1 1 1 0 1 1\n",
      " 0 1 0 0 0 1 1 1 0 1 1 0 0 1 1 1 1 1 0 0 0 0 0 1 0 1]\n"
     ]
    }
   ],
   "source": [
    "print(y)"
   ]
  },
  {
   "cell_type": "code",
   "execution_count": 7,
   "metadata": {
    "collapsed": false
   },
   "outputs": [
    {
     "name": "stdout",
     "output_type": "stream",
     "text": [
      "[[-0.48221702 -0.28206699]\n",
      " [ 1.41747159 -0.86709816]\n",
      " [ 0.88378869 -0.92475428]\n",
      " [ 0.7469239  -1.2160026 ]\n",
      " [-0.11161925  0.07390672]\n",
      " [-0.58749226 -0.66081696]\n",
      " [-0.88183821 -0.55448172]\n",
      " [-2.10674166 -1.99108522]\n",
      " [-0.566895   -1.06057167]\n",
      " [ 2.12945908 -0.34878879]\n",
      " [ 1.24936047 -0.71891837]\n",
      " [ 2.15694675 -0.99280756]\n",
      " [-0.4747746   0.44731927]\n",
      " [ 0.23456461 -1.92487075]\n",
      " [-1.79019556 -1.41552354]\n",
      " [-0.50977934 -0.11662801]\n",
      " [ 2.62728189  0.05877427]\n",
      " [-0.18074965  0.12120859]\n",
      " [-1.41216434 -2.89426972]\n",
      " [ 0.512618   -0.60786361]\n",
      " [ 0.08490007 -1.52259229]\n",
      " [-0.08810642 -1.52088966]\n",
      " [ 0.59148992 -0.87677056]\n",
      " [ 0.3960253  -1.67064887]\n",
      " [-0.67449854 -0.52577294]\n",
      " [ 2.00141541 -0.03761801]\n",
      " [ 1.84208015 -0.34586556]\n",
      " [-0.62365955 -0.92164859]\n",
      " [ 0.97916906 -0.66087127]\n",
      " [ 0.82110246 -0.71656316]\n",
      " [ 0.22079911 -1.84463546]\n",
      " [-1.05172963 -0.26699935]\n",
      " [-2.11651888 -2.65004766]\n",
      " [-1.00409969 -0.30384789]\n",
      " [-0.87259859 -1.054345  ]\n",
      " [-1.76598659 -2.71709016]\n",
      " [-1.28606042 -1.42076007]\n",
      " [ 1.28356698 -1.18233322]\n",
      " [-2.15300462 -2.6885842 ]\n",
      " [ 0.44598558 -1.38661615]\n",
      " [-0.84118144 -1.94029333]\n",
      " [-0.98550349 -1.14566671]\n",
      " [-1.16963313  0.27798236]\n",
      " [ 1.83206525 -0.74561534]\n",
      " [ 1.30117175 -0.88190168]\n",
      " [ 0.64260994 -0.47459868]\n",
      " [-0.75386568 -2.25796056]\n",
      " [-0.9715037   0.24426775]\n",
      " [-1.40766172 -2.01703536]\n",
      " [-0.95250335 -0.8416742 ]\n",
      " [-0.0516325  -1.56152648]\n",
      " [-1.13987431 -0.86210383]\n",
      " [ 2.68010925 -0.32159682]\n",
      " [ 1.96139854 -0.23257258]\n",
      " [-0.02676286  0.06799508]\n",
      " [ 0.16261403  0.86970406]\n",
      " [-0.43167485 -0.42207294]\n",
      " [ 2.03722337 -0.4905997 ]\n",
      " [-1.16976879 -1.15077851]\n",
      " [-0.97499184 -0.85346679]\n",
      " [-0.93142729 -1.10424402]\n",
      " [-0.94783015 -1.67948078]\n",
      " [ 2.83870427 -0.07035103]\n",
      " [-1.66859117 -1.08267582]\n",
      " [-1.24993128 -1.41723933]\n",
      " [ 3.58506475  0.46132916]\n",
      " [-0.49426568 -1.6294423 ]\n",
      " [ 1.17095313 -1.14111003]\n",
      " [ 1.4543218  -0.47592044]\n",
      " [ 1.40603029 -0.5939222 ]\n",
      " [ 1.26147925 -1.15872843]\n",
      " [-0.54030079 -0.51742972]\n",
      " [ 2.40986664 -0.20567285]\n",
      " [ 1.08215874 -1.22856774]\n",
      " [-0.47539621 -0.06353882]\n",
      " [ 0.78394704 -0.9685413 ]\n",
      " [-0.05059925 -0.16169855]\n",
      " [-1.18453301 -1.22934736]\n",
      " [-0.45352977  0.21904722]\n",
      " [ 1.96263849 -0.26239215]\n",
      " [ 1.1783791  -0.99569562]\n",
      " [ 0.80181576 -0.89476163]\n",
      " [-1.09893956 -2.45380027]\n",
      " [ 0.85757528 -1.10399563]\n",
      " [ 0.78628291 -1.46538379]\n",
      " [-0.26751423 -1.19516651]\n",
      " [-1.33209756 -2.65158841]\n",
      " [-0.09712237 -1.7842772 ]\n",
      " [ 0.70547252 -1.4702806 ]\n",
      " [ 1.17174679 -1.00236961]\n",
      " [ 0.62260014 -1.48222889]\n",
      " [ 1.32712345 -1.04306465]\n",
      " [-0.77230204 -0.06527799]\n",
      " [-1.12983001 -1.00670594]\n",
      " [-0.19852893  0.65355092]\n",
      " [-1.71244266 -2.1772304 ]\n",
      " [-0.09195834  1.02541377]\n",
      " [ 0.83033804 -1.04064708]\n",
      " [-1.42629254 -1.03359265]\n",
      " [ 0.66338902 -0.82739718]]\n"
     ]
    }
   ],
   "source": [
    "print(X)"
   ]
  },
  {
   "cell_type": "markdown",
   "metadata": {},
   "source": [
    "<h2>参考文献　(参照日 5/15)</h2>\n",
    "https://qiita.com/arata-honda/items/8d08f31aa7d7cbae4c91\n",
    "https://qiita.com/SE96UoC5AfUt7uY/items/3ca101f1cb5dee310c06"
   ]
  },
  {
   "cell_type": "code",
   "execution_count": 8,
   "metadata": {
    "collapsed": false
   },
   "outputs": [],
   "source": [
    "data_train, data_test, label_train, label_test = train_test_split(\n",
    "        X, y, test_size=0.3)\n",
    "import copy\n",
    "data_test_mlp=copy.copy(data_test)\n",
    "label_test_mlp=copy.copy(label_test)"
   ]
  },
  {
   "cell_type": "code",
   "execution_count": 9,
   "metadata": {
    "collapsed": false
   },
   "outputs": [
    {
     "name": "stdout",
     "output_type": "stream",
     "text": [
      "Populating the interactive namespace from numpy and matplotlib\n"
     ]
    },
    {
     "name": "stderr",
     "output_type": "stream",
     "text": [
      "WARNING: pylab import has clobbered these variables: ['copy', 'clf']\n",
      "`%matplotlib` prevents importing * from pylab and numpy\n"
     ]
    },
    {
     "data": {
      "image/png": "[encoded data removed]",
      "text/plain": [
       "<matplotlib.figure.Figure at 0x11b1de940>"
      ]
     },
     "metadata": {},
     "output_type": "display_data"
    }
   ],
   "source": [
    "%pylab inline\n",
    "for num in range(0,len(data_train)):\n",
    "    if label_train[num] == 0:\n",
    "        plt.plot(data_train[num][0],data_train[num][1] , \"o\",color=\"blue\")\n",
    "    else:\n",
    "        plt.plot(data_train[num][0],data_train[num][1] , \"o\",color=\"red\")\n",
    "plt.show()"
   ]
  },
  {
   "cell_type": "code",
   "execution_count": null,
   "metadata": {
    "collapsed": false
   },
   "outputs": [],
   "source": []
  },
  {
   "cell_type": "code",
   "execution_count": 10,
   "metadata": {
    "collapsed": false
   },
   "outputs": [],
   "source": [
    "#Linear Support Vector Classification\n",
    "\n",
    "clf2 = svm.LinearSVC(penalty='l2', loss='hinge', tol=1e-3)\n",
    "#tolは境界線の許容範囲　どれほど線引きを甘くするか\n",
    "#http://ibisforest.org/index.php?ヒンジ関数\n"
   ]
  },
  {
   "cell_type": "markdown",
   "metadata": {},
   "source": [
    "## L2,L1(Lasso,Ridge)　正則化について\n",
    "L2(リッジ)は全ての重み付けのパラメータを切り捨てることなく処理している\n",
    "L1（ラッソ）はほとんどの特徴量（重み付けのパラメータ）を0として正則化しているので、次元を削減することができる。\n",
    "正則化は過学習を防ぐための項　\n",
    "過学習とは、重みつけのパラメータが極端に大きな値になったり、小さな値になったりすること　オーバーフィッティングとも呼ばれ、データから正しく汎化されたモデルを作ることができない。\n",
    "\n",
    "L2(リッジ)正則化\n",
    "$$\n",
    "\\sum ^{m}_{j=1}w^{2}_{j}\n",
    "$$\n",
    "\n",
    "L1(ラッソ)正則化\n",
    "$$\n",
    "\\sum ^{n}_{j=1}\\left| w_{j}\\right|\n",
    "$$\n"
   ]
  },
  {
   "cell_type": "code",
   "execution_count": 11,
   "metadata": {
    "collapsed": false
   },
   "outputs": [
    {
     "data": {
      "image/png": "/Users/user/KAIM/MLExample/image2.png"
     },
     "metadata": {},
     "output_type": "display_data"
    },
    {
     "data": {
      "image/png": "/Users/user/KAIM/MLExample/image3.png"
     },
     "metadata": {},
     "output_type": "display_data"
    }
   ],
   "source": [
    "from IPython.display import Image, display_png\n",
    "\n",
    "display_png(Image(\"/Users/user/KAIM/MLExample/image2.png\"))\n",
    "display_png(Image(\"/Users/user/KAIM/MLExample/image3.png\"))"
   ]
  },
  {
   "cell_type": "code",
   "execution_count": 12,
   "metadata": {
    "collapsed": false
   },
   "outputs": [
    {
     "data": {
      "text/plain": [
       "array([1.00000000e-02, 2.78255940e-02, 7.74263683e-02, 2.15443469e-01,\n",
       "       5.99484250e-01, 1.66810054e+00, 4.64158883e+00, 1.29154967e+01,\n",
       "       3.59381366e+01, 1.00000000e+02])"
      ]
     },
     "execution_count": 12,
     "metadata": {},
     "output_type": "execute_result"
    }
   ],
   "source": [
    "np.logspace(-2,2,10)"
   ]
  },
  {
   "cell_type": "code",
   "execution_count": 13,
   "metadata": {
    "collapsed": false
   },
   "outputs": [
    {
     "name": "stdout",
     "output_type": "stream",
     "text": [
      "best_score:1.0\n",
      "best_param:{'C': 0.1}\n"
     ]
    }
   ],
   "source": [
    "#Cの値をlogspaceで決定。\n",
    "tuned_parameters = [{'C': np.logspace(-1, 2, 30)}]\n",
    "# precisionが最大となるようなCの値を求める。5つに分割するクロスバリデーションを行う。\n",
    "# クロスバリデーションする \n",
    "clf2 = GridSearchCV(clf2, tuned_parameters, cv=5, scoring='precision')\n",
    "# 設定したパラメータで学習しつつ検証を行う\n",
    "clf2.fit(data_train, label_train)\n",
    "print(\"best_score:\"+str(clf2.best_score_))\n",
    "print(\"best_param:\"+str(clf2.best_params_))\n",
    "    "
   ]
  },
  {
   "cell_type": "markdown",
   "metadata": {},
   "source": [
    "## scoring='precision'について\n",
    "\n",
    "http://scikit-learn.org/stable/modules/model_evaluation.html#scoring-parameter\n",
    "\n",
    "#tuned_parametersの別の書き方<br>\n",
    "tuned_parameters = [{'C': [1, 10, 100, 1000]}]\n"
   ]
  },
  {
   "cell_type": "code",
   "execution_count": 14,
   "metadata": {
    "collapsed": false
   },
   "outputs": [
    {
     "name": "stdout",
     "output_type": "stream",
     "text": [
      "best_score:1.0\n",
      "best_param{'C': 0.1}\n"
     ]
    }
   ],
   "source": [
    "print(\"best_score:\"+str(clf2.best_score_))\n",
    "print(\"best_param\"+str(clf2.best_params_))"
   ]
  },
  {
   "cell_type": "code",
   "execution_count": 15,
   "metadata": {
    "collapsed": false
   },
   "outputs": [
    {
     "data": {
      "text/plain": [
       "array([1, 1, 0, 0, 0, 0, 1, 1, 1, 1, 0, 0, 0, 1, 1, 0, 0, 0, 1, 1, 0, 1,\n",
       "       0, 0, 0, 1, 1, 1, 1, 1])"
      ]
     },
     "execution_count": 15,
     "metadata": {},
     "output_type": "execute_result"
    }
   ],
   "source": [
    "#テストデータをサポートベクトルマシンというモデルで分析した結果（予測値）\n",
    "predicted_labels=clf2.predict(data_test)\n",
    "predicted_labels"
   ]
  },
  {
   "cell_type": "code",
   "execution_count": 16,
   "metadata": {
    "collapsed": false
   },
   "outputs": [
    {
     "data": {
      "text/plain": [
       "array([1, 1, 0, 0, 0, 0, 1, 1, 1, 1, 0, 0, 0, 1, 1, 0, 0, 0, 1, 1, 0, 1,\n",
       "       0, 0, 0, 1, 1, 1, 1, 1])"
      ]
     },
     "execution_count": 16,
     "metadata": {},
     "output_type": "execute_result"
    }
   ],
   "source": [
    "#テストデータの教師ラベルを表示\n",
    "np.array(label_test)"
   ]
  },
  {
   "cell_type": "code",
   "execution_count": 17,
   "metadata": {
    "collapsed": false
   },
   "outputs": [
    {
     "name": "stdout",
     "output_type": "stream",
     "text": [
      "Populating the interactive namespace from numpy and matplotlib\n"
     ]
    },
    {
     "data": {
      "image/png": "[encoded data removed]",
      "text/plain": [
       "<matplotlib.figure.Figure at 0x1134b00f0>"
      ]
     },
     "metadata": {},
     "output_type": "display_data"
    }
   ],
   "source": [
    "%pylab inline\n",
    "for num in range(0,len(data_test)):\n",
    "    if predicted_labels[num] == 0:\n",
    "        plt.plot(data_test[num][0],data_test[num][1] , \"o\",color=\"blue\")\n",
    "    else:\n",
    "        plt.plot(data_test[num][0],data_test[num][1] , \"o\",color=\"red\")\n",
    "plt.show()"
   ]
  },
  {
   "cell_type": "code",
   "execution_count": 18,
   "metadata": {
    "collapsed": false
   },
   "outputs": [
    {
     "name": "stderr",
     "output_type": "stream",
     "text": [
      "/Users/user/anaconda3/lib/python3.5/site-packages/sklearn/neural_network/multilayer_perceptron.py:564: ConvergenceWarning: Stochastic Optimizer: Maximum iterations (200) reached and the optimization hasn't converged yet.\n",
      "  % self.max_iter, ConvergenceWarning)\n"
     ]
    },
    {
     "data": {
      "text/plain": [
       "MLPClassifier(activation='relu', alpha=0.001, batch_size='auto', beta_1=0.9,\n",
       "       beta_2=0.999, early_stopping=False, epsilon=1e-08,\n",
       "       hidden_layer_sizes=(2, 100, 2), learning_rate='constant',\n",
       "       learning_rate_init=0.001, max_iter=200, momentum=0.9,\n",
       "       nesterovs_momentum=True, power_t=0.5, random_state=1, shuffle=True,\n",
       "       solver='adam', tol=0.0001, validation_fraction=0.1, verbose=False,\n",
       "       warm_start=False)"
      ]
     },
     "execution_count": 18,
     "metadata": {},
     "output_type": "execute_result"
    }
   ],
   "source": [
    "mlp = MLPClassifier(alpha=1e-3,hidden_layer_sizes=(2, 100,2), random_state=1)\n",
    "mlp.fit(data_train,label_train)"
   ]
  },
  {
   "cell_type": "code",
   "execution_count": 19,
   "metadata": {
    "collapsed": false
   },
   "outputs": [
    {
     "data": {
      "text/plain": [
       "array([1, 1, 0, 0, 0, 0, 1, 1, 1, 1, 0, 0, 0, 1, 1, 0, 0, 0, 1, 1, 0, 1,\n",
       "       0, 0, 0, 1, 1, 1, 1, 1])"
      ]
     },
     "execution_count": 19,
     "metadata": {},
     "output_type": "execute_result"
    }
   ],
   "source": [
    "predicted_labels_mlp=mlp.predict(data_test_mlp)\n",
    "predicted_labels_mlp"
   ]
  },
  {
   "cell_type": "code",
   "execution_count": 20,
   "metadata": {
    "collapsed": false
   },
   "outputs": [
    {
     "name": "stdout",
     "output_type": "stream",
     "text": [
      "Populating the interactive namespace from numpy and matplotlib\n"
     ]
    },
    {
     "data": {
      "image/png": "[encoded data removed]",
      "text/plain": [
       "<matplotlib.figure.Figure at 0x1134b04e0>"
      ]
     },
     "metadata": {},
     "output_type": "display_data"
    }
   ],
   "source": [
    "%pylab inline\n",
    "for num in range(0,len(data_test_mlp)):\n",
    "    if predicted_labels_mlp[num] == 0:\n",
    "        plt.plot(data_test_mlp[num][0],data_test_mlp[num][1] , \"o\",color=\"blue\")\n",
    "    else:\n",
    "        plt.plot(data_test_mlp[num][0],data_test_mlp[num][1] , \"o\",color=\"red\")\n",
    "plt.show()"
   ]
  },
  {
   "cell_type": "code",
   "execution_count": null,
   "metadata": {
    "collapsed": true
   },
   "outputs": [],
   "source": []
  },
  {
   "cell_type": "code",
   "execution_count": null,
   "metadata": {
    "collapsed": true
   },
   "outputs": [],
   "source": []
  },
  {
   "cell_type": "markdown",
   "metadata": {
    "collapsed": false
   },
   "source": [
    "## サポートベクトルマシンの参考文献\n",
    "https://qiita.com/arata-honda/items/8d08f31aa7d7cbae4c91<br>\n",
    "scikit-learnでSVMのパラメータを調節してみた話（参照日：５月18日）<br>\n",
    "https://qiita.com/rennnosuke/items/cd01aa855196340167df<br>\n",
    "線形SVM（参照日：5月18日）<br>\n",
    "https://qiita.com/ragAgar/items/2f6bebdba5f9d7381310<br>\n",
    "scikit-learnでモデルのハイパーパラメータチューニングをしよう！（参照日：5月18日）\n",
    "## ニューラルネットワークについての参考文献\n",
    "http://scikit-learn.org/stable/modules/neural_networks_supervised.html (参照日：5月19日)\n",
    "\n",
    "## 機械学習のモデル選択に役立つチートシート\n",
    "http://scikit-learn.org/stable/tutorial/machine_learning_map/index.html　（参照日：5月19日）"
   ]
  },
  {
   "cell_type": "code",
   "execution_count": null,
   "metadata": {
    "collapsed": true
   },
   "outputs": [],
   "source": []
  },
  {
   "cell_type": "code",
   "execution_count": null,
   "metadata": {
    "collapsed": true
   },
   "outputs": [],
   "source": []
  }
 ],
 "metadata": {
  "anaconda-cloud": {},
  "kernelspec": {
   "display_name": "Python [Root]",
   "language": "python",
   "name": "Python [Root]"
  },
  "language_info": {
   "codemirror_mode": {
    "name": "ipython",
    "version": 3
   },
   "file_extension": ".py",
   "mimetype": "text/x-python",
   "name": "python",
   "nbconvert_exporter": "python",
   "pygments_lexer": "ipython3",
   "version": "3.5.2"
  }
 },
 "nbformat": 4,
 "nbformat_minor": 0
}
